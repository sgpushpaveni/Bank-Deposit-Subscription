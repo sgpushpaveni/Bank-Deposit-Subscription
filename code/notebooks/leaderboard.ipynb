{
 "cells": [
  {
   "cell_type": "code",
   "execution_count": null,
   "id": "ede438e6",
   "metadata": {},
   "outputs": [],
   "source": [
    "# Compare multiple models and show metrics\n",
    "from sklearn.metrics import accuracy_score, precision_score, recall_score, f1_score, roc_auc_score\n",
    "\n",
    "models = {\n",
    "    \"Logistic Regression\": lr,\n",
    "    \"Random Forest\": rf,\n",
    "    # Add XGBoost, LightGBM, etc.\n",
    "}\n",
    "\n",
    "results = []\n",
    "for name, model in models.items():\n",
    "    y_pred = model.predict(X_test)\n",
    "    y_proba = model.predict_proba(X_test)[:,1] if hasattr(model, \"predict_proba\") else None\n",
    "    results.append({\n",
    "        \"Model\": name,\n",
    "        \"Accuracy\": accuracy_score(y_test, y_pred),\n",
    "        \"Precision\": precision_score(y_test, y_pred),\n",
    "        \"Recall\": recall_score(y_test, y_pred),\n",
    "        \"F1\": f1_score(y_test, y_pred),\n",
    "        \"ROC-AUC\": roc_auc_score(y_test, y_proba) if y_proba is not None else \"N/A\"\n",
    "    })\n",
    "\n",
    "import pandas as pd\n",
    "leaderboard = pd.DataFrame(results)\n",
    "display(leaderboard)"
   ]
  },
  {
   "cell_type": "code",
   "execution_count": 1,
   "id": "f08867d8",
   "metadata": {},
   "outputs": [
    {
     "name": "stdout",
     "output_type": "stream",
     "text": [
      "Collecting streamlit-option-menu\n",
      "  Using cached streamlit_option_menu-0.4.0-py3-none-any.whl.metadata (2.5 kB)\n",
      "Requirement already satisfied: streamlit>=1.36 in d:\\python\\lib\\site-packages (from streamlit-option-menu) (1.45.1)\n",
      "Requirement already satisfied: altair<6,>=4.0 in d:\\python\\lib\\site-packages (from streamlit>=1.36->streamlit-option-menu) (5.5.0)\n",
      "Requirement already satisfied: blinker<2,>=1.5.0 in d:\\python\\lib\\site-packages (from streamlit>=1.36->streamlit-option-menu) (1.9.0)\n",
      "Requirement already satisfied: cachetools<6,>=4.0 in d:\\python\\lib\\site-packages (from streamlit>=1.36->streamlit-option-menu) (5.5.2)\n",
      "Requirement already satisfied: click<9,>=7.0 in d:\\python\\lib\\site-packages (from streamlit>=1.36->streamlit-option-menu) (8.2.0)\n",
      "Requirement already satisfied: numpy<3,>=1.23 in d:\\python\\lib\\site-packages (from streamlit>=1.36->streamlit-option-menu) (2.2.5)\n",
      "Requirement already satisfied: packaging<25,>=20 in d:\\python\\lib\\site-packages (from streamlit>=1.36->streamlit-option-menu) (24.2)\n",
      "Requirement already satisfied: pandas<3,>=1.4.0 in d:\\python\\lib\\site-packages (from streamlit>=1.36->streamlit-option-menu) (2.2.3)\n",
      "Requirement already satisfied: pillow<12,>=7.1.0 in d:\\python\\lib\\site-packages (from streamlit>=1.36->streamlit-option-menu) (11.2.1)\n",
      "Requirement already satisfied: protobuf<7,>=3.20 in d:\\python\\lib\\site-packages (from streamlit>=1.36->streamlit-option-menu) (6.31.0)\n",
      "Requirement already satisfied: pyarrow>=7.0 in d:\\python\\lib\\site-packages (from streamlit>=1.36->streamlit-option-menu) (20.0.0)\n",
      "Requirement already satisfied: requests<3,>=2.27 in d:\\python\\lib\\site-packages (from streamlit>=1.36->streamlit-option-menu) (2.32.5)\n",
      "Requirement already satisfied: tenacity<10,>=8.1.0 in d:\\python\\lib\\site-packages (from streamlit>=1.36->streamlit-option-menu) (9.1.2)\n",
      "Requirement already satisfied: toml<2,>=0.10.1 in d:\\python\\lib\\site-packages (from streamlit>=1.36->streamlit-option-menu) (0.10.2)\n",
      "Requirement already satisfied: typing-extensions<5,>=4.4.0 in d:\\python\\lib\\site-packages (from streamlit>=1.36->streamlit-option-menu) (4.13.2)\n",
      "Requirement already satisfied: watchdog<7,>=2.1.5 in d:\\python\\lib\\site-packages (from streamlit>=1.36->streamlit-option-menu) (6.0.0)\n",
      "Requirement already satisfied: gitpython!=3.1.19,<4,>=3.0.7 in d:\\python\\lib\\site-packages (from streamlit>=1.36->streamlit-option-menu) (3.1.44)\n",
      "Requirement already satisfied: pydeck<1,>=0.8.0b4 in d:\\python\\lib\\site-packages (from streamlit>=1.36->streamlit-option-menu) (0.9.1)\n",
      "Requirement already satisfied: tornado<7,>=6.0.3 in c:\\users\\admin\\appdata\\roaming\\python\\python313\\site-packages (from streamlit>=1.36->streamlit-option-menu) (6.4.2)\n",
      "Requirement already satisfied: jinja2 in d:\\python\\lib\\site-packages (from altair<6,>=4.0->streamlit>=1.36->streamlit-option-menu) (3.1.6)\n",
      "Requirement already satisfied: jsonschema>=3.0 in d:\\python\\lib\\site-packages (from altair<6,>=4.0->streamlit>=1.36->streamlit-option-menu) (4.23.0)\n",
      "Requirement already satisfied: narwhals>=1.14.2 in d:\\python\\lib\\site-packages (from altair<6,>=4.0->streamlit>=1.36->streamlit-option-menu) (1.40.0)\n",
      "Requirement already satisfied: colorama in c:\\users\\admin\\appdata\\roaming\\python\\python313\\site-packages (from click<9,>=7.0->streamlit>=1.36->streamlit-option-menu) (0.4.6)\n",
      "Requirement already satisfied: gitdb<5,>=4.0.1 in d:\\python\\lib\\site-packages (from gitpython!=3.1.19,<4,>=3.0.7->streamlit>=1.36->streamlit-option-menu) (4.0.12)\n",
      "Requirement already satisfied: python-dateutil>=2.8.2 in c:\\users\\admin\\appdata\\roaming\\python\\python313\\site-packages (from pandas<3,>=1.4.0->streamlit>=1.36->streamlit-option-menu) (2.9.0.post0)\n",
      "Requirement already satisfied: pytz>=2020.1 in d:\\python\\lib\\site-packages (from pandas<3,>=1.4.0->streamlit>=1.36->streamlit-option-menu) (2025.2)\n",
      "Requirement already satisfied: tzdata>=2022.7 in d:\\python\\lib\\site-packages (from pandas<3,>=1.4.0->streamlit>=1.36->streamlit-option-menu) (2025.2)\n",
      "Requirement already satisfied: charset_normalizer<4,>=2 in d:\\python\\lib\\site-packages (from requests<3,>=2.27->streamlit>=1.36->streamlit-option-menu) (3.4.2)\n",
      "Requirement already satisfied: idna<4,>=2.5 in d:\\python\\lib\\site-packages (from requests<3,>=2.27->streamlit>=1.36->streamlit-option-menu) (3.10)\n",
      "Requirement already satisfied: urllib3<3,>=1.21.1 in d:\\python\\lib\\site-packages (from requests<3,>=2.27->streamlit>=1.36->streamlit-option-menu) (2.4.0)\n",
      "Requirement already satisfied: certifi>=2017.4.17 in d:\\python\\lib\\site-packages (from requests<3,>=2.27->streamlit>=1.36->streamlit-option-menu) (2025.4.26)\n",
      "Requirement already satisfied: smmap<6,>=3.0.1 in d:\\python\\lib\\site-packages (from gitdb<5,>=4.0.1->gitpython!=3.1.19,<4,>=3.0.7->streamlit>=1.36->streamlit-option-menu) (5.0.2)\n",
      "Requirement already satisfied: MarkupSafe>=2.0 in d:\\python\\lib\\site-packages (from jinja2->altair<6,>=4.0->streamlit>=1.36->streamlit-option-menu) (3.0.2)\n",
      "Requirement already satisfied: attrs>=22.2.0 in d:\\python\\lib\\site-packages (from jsonschema>=3.0->altair<6,>=4.0->streamlit>=1.36->streamlit-option-menu) (25.3.0)\n",
      "Requirement already satisfied: jsonschema-specifications>=2023.03.6 in d:\\python\\lib\\site-packages (from jsonschema>=3.0->altair<6,>=4.0->streamlit>=1.36->streamlit-option-menu) (2025.4.1)\n",
      "Requirement already satisfied: referencing>=0.28.4 in d:\\python\\lib\\site-packages (from jsonschema>=3.0->altair<6,>=4.0->streamlit>=1.36->streamlit-option-menu) (0.36.2)\n",
      "Requirement already satisfied: rpds-py>=0.7.1 in d:\\python\\lib\\site-packages (from jsonschema>=3.0->altair<6,>=4.0->streamlit>=1.36->streamlit-option-menu) (0.25.1)\n",
      "Requirement already satisfied: six>=1.5 in c:\\users\\admin\\appdata\\roaming\\python\\python313\\site-packages (from python-dateutil>=2.8.2->pandas<3,>=1.4.0->streamlit>=1.36->streamlit-option-menu) (1.17.0)\n",
      "Using cached streamlit_option_menu-0.4.0-py3-none-any.whl (829 kB)\n",
      "Installing collected packages: streamlit-option-menu\n",
      "Successfully installed streamlit-option-menu-0.4.0\n"
     ]
    },
    {
     "name": "stderr",
     "output_type": "stream",
     "text": [
      "\n",
      "[notice] A new release of pip is available: 25.0.1 -> 25.2\n",
      "[notice] To update, run: python.exe -m pip install --upgrade pip\n"
     ]
    }
   ],
   "source": [
    "!pip3 install streamlit-option-menu"
   ]
  }
 ],
 "metadata": {
  "kernelspec": {
   "display_name": "Python 3",
   "language": "python",
   "name": "python3"
  },
  "language_info": {
   "codemirror_mode": {
    "name": "ipython",
    "version": 3
   },
   "file_extension": ".py",
   "mimetype": "text/x-python",
   "name": "python",
   "nbconvert_exporter": "python",
   "pygments_lexer": "ipython3",
   "version": "3.13.2"
  }
 },
 "nbformat": 4,
 "nbformat_minor": 5
}
